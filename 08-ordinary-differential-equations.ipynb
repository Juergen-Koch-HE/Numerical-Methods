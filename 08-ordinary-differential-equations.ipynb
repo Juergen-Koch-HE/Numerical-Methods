{
 "cells": [
  {
   "cell_type": "markdown",
   "metadata": {},
   "source": [
    "<!--NAVIGATION-->\n",
    "< [7 Numerical Integration](07-numerical-integration.ipynb) | [9 Partial Differential Equations.ipynb](09-partial-differential-equations.ipynb) >"
   ]
  },
  {
   "cell_type": "markdown",
   "metadata": {},
   "source": [
    "# 8 Ordinary Differential Equations"
   ]
  },
  {
   "cell_type": "markdown",
   "metadata": {},
   "source": [
    "## Gradient descent"
   ]
  },
  {
   "cell_type": "code",
   "execution_count": null,
   "metadata": {},
   "outputs": [],
   "source": [
    "import numpy as np\n",
    "\n",
    "def eulerStep(x0,t0,h):\n",
    "    return x0 + h*ode(t0,x0)\n",
    "\n",
    "def eulerFixedStepSize(x0,tspan,h):\n",
    "    t, x = [tspan[0]], [x0]\n",
    "    while t[-1] < tspan[1]:\n",
    "        x.append(eulerStep(x[-1],t[-1],h))\n",
    "        t.append(t[-1]+h)\n",
    "    return t, x\n",
    "        \n",
    "def eulerAdaptiveStepSize(x0,tspan,tol=1e-4,h0=1e-4):\n",
    "    t, x = [tspan[0]], [x0]\n",
    "    h = h0\n",
    "    while t[-1] < tspan[1]:\n",
    "        x1 = eulerStep(x[-1],t[-1],h)\n",
    "        y1 = eulerStep(x[-1],t[-1],0.5*h)\n",
    "        y2 = eulerStep(y1,t[-1]+0.5*h,0.5*h)\n",
    "        e_local = np.max(np.abs(x1-y2))\n",
    "        e_global = e_local/h\n",
    "        if  e_global <= tol:\n",
    "            t.append(t[-1]+h)\n",
    "            x.append(y2)\n",
    "            h_scale = tol*h/e_local\n",
    "            h = min(h_scale*h,tspan[1])    \n",
    "        else:\n",
    "            h = 0.5*h\n",
    "    return t, x"
   ]
  },
  {
   "cell_type": "markdown",
   "metadata": {},
   "source": [
    "## Examples"
   ]
  },
  {
   "cell_type": "markdown",
   "metadata": {},
   "source": [
    "### Example 1\n",
    "\n",
    "$$\n",
    "\t\\dot{x}(t) = x(t), \\quad x(0) = 1, \\quad t \\in [0,1].\n",
    "$$"
   ]
  },
  {
   "cell_type": "code",
   "execution_count": null,
   "metadata": {},
   "outputs": [],
   "source": [
    "def ode(t,x):\n",
    "    return x\n",
    "\n",
    "x0 = 1.0\n",
    "tspan = [0.0,1.0]\n",
    "\n",
    "t, x = eulerFixedStepSize(x0,tspan,0.2)\n",
    "print('t = ',t,'\\nx = ',x)\n",
    "e_global = np.max(np.abs(x-np.exp(t)))\n",
    "print('e_global = ',e_global)\n",
    "\n",
    "t, x = eulerAdaptiveStepSize(x0,tspan)\n",
    "e_global = np.max(np.abs(x-np.exp(t)))\n",
    "print('e_global = ',e_global)"
   ]
  },
  {
   "cell_type": "markdown",
   "metadata": {},
   "source": [
    "### Example 2\n",
    "\n",
    "Van der Pol oscillator\n",
    "\n",
    "$$\n",
    "    \\begin{array}{ccl}\n",
    "\t\\dot x_0(t) & = & x_1(t), \\\\\n",
    "    \\dot x_1(t) & = & \\mu(1-x_0^2(t))x_1(t) - x_0(t). \\\\\n",
    "    \\end{array}\n",
    "$$"
   ]
  },
  {
   "cell_type": "code",
   "execution_count": null,
   "metadata": {},
   "outputs": [],
   "source": [
    "def ode(t,x):\n",
    "    mu = 2\n",
    "    xp = x[1]\n",
    "    yp = mu*(1.0-x[0]**2)*x[1] - x[0]\n",
    "    return np.array([xp,yp])\n",
    "\n",
    "x0 = np.array([1.0,2.0])\n",
    "tspan = [0.0,10.0]\n",
    "t, x = eulerAdaptiveStepSize(x0,tspan,1e-2)"
   ]
  },
  {
   "cell_type": "code",
   "execution_count": null,
   "metadata": {},
   "outputs": [],
   "source": [
    "import matplotlib.pyplot as plt\n",
    "x_val = [xx[0] for xx in x]\n",
    "y_val = [xx[1] for xx in x]\n",
    "fig, ax = plt.subplots(figsize=(15,15))\n",
    "ax.plot(x_val,y_val,'.r',markersize=0.5)"
   ]
  },
  {
   "cell_type": "code",
   "execution_count": null,
   "metadata": {},
   "outputs": [],
   "source": []
  }
 ],
 "metadata": {
  "kernelspec": {
   "display_name": "Python 3 (ipykernel)",
   "language": "python",
   "name": "python3"
  },
  "language_info": {
   "codemirror_mode": {
    "name": "ipython",
    "version": 3
   },
   "file_extension": ".py",
   "mimetype": "text/x-python",
   "name": "python",
   "nbconvert_exporter": "python",
   "pygments_lexer": "ipython3",
   "version": "3.9.7"
  },
  "toc": {
   "base_numbering": "7",
   "nav_menu": {},
   "number_sections": true,
   "sideBar": true,
   "skip_h1_title": false,
   "title_cell": "Table of Contents",
   "title_sidebar": "Contents",
   "toc_cell": false,
   "toc_position": {},
   "toc_section_display": true,
   "toc_window_display": false
  }
 },
 "nbformat": 4,
 "nbformat_minor": 4
}
