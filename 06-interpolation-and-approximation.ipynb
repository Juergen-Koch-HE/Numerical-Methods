{
 "cells": [
  {
   "cell_type": "markdown",
   "metadata": {},
   "source": [
    "<!--NAVIGATION-->\n",
    "< [5 Optimization](05-optimization.ipynb) | [7 Numerical Integration](07-numerical-integration.ipynb) >"
   ]
  },
  {
   "cell_type": "markdown",
   "metadata": {},
   "source": [
    "# 6 Interpolation and Approximation"
   ]
  },
  {
   "cell_type": "markdown",
   "metadata": {},
   "source": [
    "## Polynomial interpolation"
   ]
  },
  {
   "cell_type": "markdown",
   "metadata": {},
   "source": [
    "### Example"
   ]
  },
  {
   "cell_type": "code",
   "execution_count": null,
   "metadata": {},
   "outputs": [],
   "source": [
    "import numpy as np\n",
    "\n",
    "#x = np.array([1.0,2.0,3.0,5.0,8.0,13.0])\n",
    "#y = np.array([-3.0,5.0,1.0,2.0,4.0,8.0])\n",
    "\n",
    "x = np.array([2.0,4.0,1.0])\n",
    "y = np.array([2.0,3.0,1.0])"
   ]
  },
  {
   "cell_type": "markdown",
   "metadata": {},
   "source": [
    "### Vandermonde matrix\n",
    "\n",
    "$$\n",
    "\\mathbf{V}_n(x_1,x_2,\\ldots,x_m) = \n",
    "\\left(\n",
    "\\begin{array}{cccc}\n",
    "      1 &    x_1 & \\ldots &  x_1^{n-1} \\\\\n",
    "      1 &    x_2 & \\ldots &  x_2^{n-1} \\\\\n",
    " \\vdots & \\vdots & \\ddots & \\vdots \\\\\n",
    "      1 &    x_m & \\ldots &  x_m^{n-1}\n",
    "\\end{array}\n",
    "\\right)\n",
    "$$"
   ]
  },
  {
   "cell_type": "code",
   "execution_count": null,
   "metadata": {},
   "outputs": [],
   "source": [
    "def vandermonde_matrix(x,n):\n",
    "    m = np.size(x)\n",
    "    x = np.reshape(x,(m,1))\n",
    "    V = np.array(x**0)\n",
    "    for k in np.arange(1,n-1):\n",
    "        V = np.append(V,x**k,axis=1)\n",
    "    return V"
   ]
  },
  {
   "cell_type": "code",
   "execution_count": null,
   "metadata": {},
   "outputs": [],
   "source": [
    "V = vandermonde_matrix(x,np.size(x)+1)\n",
    "print('V = \\n',V)"
   ]
  },
  {
   "cell_type": "markdown",
   "metadata": {},
   "source": [
    "### Polyfit\n",
    "\n",
    "$$\n",
    "\\begin{array}{ccccccccc}\n",
    "    p_0 & + & p_1 \\, x_1 & + & \\ldots & + & p_{n-1} \\, x_1^{n-1} & = & y_1, \\\\\n",
    "    p_0 & + & p_1 \\, x_2 & + & \\ldots & + & p_{n-1} \\, x_2^{n-1} & = & y_2, \\\\\n",
    " \\vdots &   &    \\vdots  &   & \\ddots &   &       \\vdots & = & \\vdots \\\\\n",
    "    p_0 & + & p_1 \\, x_m & + & \\ldots & + & p_{n-1} \\, x_m^{n-1} & = & y_m.\n",
    "\\end{array}\n",
    "$$"
   ]
  },
  {
   "cell_type": "code",
   "execution_count": null,
   "metadata": {},
   "outputs": [],
   "source": [
    "def polyfit(x,y):\n",
    "    V = vandermonde_matrix(x,np.size(x)+1)\n",
    "    p = np.linalg.solve(V,y)\n",
    "    return p"
   ]
  },
  {
   "cell_type": "code",
   "execution_count": null,
   "metadata": {},
   "outputs": [],
   "source": [
    "p = polyfit(x,y)\n",
    "print('p = ',p)"
   ]
  },
  {
   "cell_type": "markdown",
   "metadata": {},
   "source": [
    "### Polyval"
   ]
  },
  {
   "cell_type": "code",
   "execution_count": null,
   "metadata": {},
   "outputs": [],
   "source": [
    "def polyval(p,x):\n",
    "    V = vandermonde_matrix(x,np.size(p)+1)\n",
    "    f = V.dot(p)\n",
    "    return f"
   ]
  },
  {
   "cell_type": "code",
   "execution_count": null,
   "metadata": {},
   "outputs": [],
   "source": [
    "print('y = ',polyval(p,x))"
   ]
  },
  {
   "cell_type": "markdown",
   "metadata": {},
   "source": [
    "### Plot"
   ]
  },
  {
   "cell_type": "code",
   "execution_count": null,
   "metadata": {},
   "outputs": [],
   "source": [
    "from matplotlib import pyplot as plt \n",
    "plt.plot(x,y,'.r')\n",
    "t = np.linspace(np.min(x)-1,np.max(x)+1,100)\n",
    "f = polyval(p,t)\n",
    "plt.plot(t,f,'-k')\n",
    "plt.show()"
   ]
  }
 ],
 "metadata": {
  "kernelspec": {
   "display_name": "Python 3 (ipykernel)",
   "language": "python",
   "name": "python3"
  },
  "language_info": {
   "codemirror_mode": {
    "name": "ipython",
    "version": 3
   },
   "file_extension": ".py",
   "mimetype": "text/x-python",
   "name": "python",
   "nbconvert_exporter": "python",
   "pygments_lexer": "ipython3",
   "version": "3.9.7"
  }
 },
 "nbformat": 4,
 "nbformat_minor": 4
}
