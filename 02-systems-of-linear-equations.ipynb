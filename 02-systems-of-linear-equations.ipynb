{
 "cells": [
  {
   "cell_type": "markdown",
   "metadata": {},
   "source": [
    "<div class=\"alert alert-block alert-warning\">\n",
    "<b>Example</b>\n",
    "</div>\n",
    "\n",
    "<div class=\"alert alert-block alert-success\">\n",
    "<b>Definition</b>\n",
    "</div>\n",
    "\n",
    "<div class=\"alert alert-block alert-info\">\n",
    "<b>Task</b>\n",
    "</div>\n",
    "\n",
    "<div class=\"alert alert-block alert-danger\">\n",
    "<b>Hint</b>\n",
    "</div>"
   ]
  },
  {
   "cell_type": "markdown",
   "metadata": {},
   "source": [
    "<!--NAVIGATION-->\n",
    "< [1 Roundoff Error](01-roundoff-error.ipynb) | [3 Eigenvalues and Eigenvectors](03-eigenvalues-and-eigenvectors.ipynb) >"
   ]
  },
  {
   "cell_type": "markdown",
   "metadata": {},
   "source": [
    "# 2 Systems of Linear Equations\n",
    "In school, we were introduced to the first systems of linear equations.\n",
    "In the math class at the university, we learned how to represent such systems using matrices and how to solve them systematically.\n",
    "As long as the number of equations and unknowns is manageable, these solution methods work very well.\n",
    "At this point, however, we are not concerned with determining the solution for systems with a few unknowns, but rather for systems with a large number of unknowns.\n",
    "Over the last few decades, numerical methods have been developed that can solve systems of linear equations with well over a million unknowns in a stable and efficient manner using computer programs.\n",
    "\n",
    "Many computational methods, such as fluid flow simulation, rely on solving systems of linear equations.\n",
    "The calculation of currents in electrical networks and of forces in mechanical structures is carried out using systems of linear equations.\n",
    "Web page evaluation by internet search engines and weather forecasting are also based on systems of linear equations.\n",
    "Efficient methods for solving systems of linear equations are also required for machine learning with artificial neural networks."
   ]
  },
  {
   "cell_type": "markdown",
   "metadata": {},
   "source": [
    "<div class=\"alert alert-block alert-warning\">  \n",
    "<b>Example (crash simulation)</b>\n",
    "    \n",
    "A typical example, where there are often more than a million equations to be solved, is simulating an automotive crash test.\n",
    "The finite element method uses a division of the car into many small, simple bodies.\n",
    "These are usually cuboids or tetrahedrons.\n",
    "The finite element method traces the problem back to solving systems of linear equations.\n",
    "</div>"
   ]
  },
  {
   "cell_type": "markdown",
   "metadata": {},
   "source": [
    "<img src=\"../skript/bild/FAE_visualization.jpg\" style=\"height:250px\" align=\"left\">"
   ]
  },
  {
   "cell_type": "markdown",
   "metadata": {},
   "source": [
    "https://en.wikipedia.org/wiki/Finite_element_method"
   ]
  },
  {
   "cell_type": "markdown",
   "metadata": {},
   "source": [
    "Nonlinear systems of equations, see [Chapter 4](04-root-finding.ipynb), are often solved by iterative approximation with linear systems of equations."
   ]
  },
  {
   "cell_type": "markdown",
   "metadata": {},
   "source": [
    "## 2.1 Problem statement\n",
    "In a system of linear equations, the unknowns appear only to the first power.\n",
    "Thus, systems of linear equations can always be represented in the same structured way.\n",
    "They are always represented so that all unknowns are on the left side of the equal signs.\n",
    "Each equation presents the unknowns in the same order.\n",
    "There is only one coefficient to the right of the equal signs, which can be zero.\n",
    "\n",
    "<div class=\"alert alert-block alert-success\">\n",
    "<b>System of linear equations</b>\n",
    "\n",
    "A system with $m$ equations and $n$ unknowns\n",
    "$x_0$, $x_1$, $\\ldots$, $x_{n-1}$\n",
    "in the form \n",
    "\n",
    "$$\n",
    "\t\\begin{array}{@{}ccccccccc@{}}\n",
    "\t\ta_{0,0} \\, x_0 & + & a_{0,1} \\, x_1 & + & \\ldots & + & a_{0,n-1} \\, x_{n-1} & = & b_0\\\\\n",
    "\t\ta_{1,0} \\, x_0 & + & a_{1,1} \\, x_1 & + & \\ldots & + & a_{1,n-1} \\, x_{n-1} & = & b_1\\\\\n",
    "\t\t  \\vdots   &   &   \\vdots   &   & \\ddots &   &   \\vdots   &   & \\vdots\\\\\n",
    " \t\ta_{m-1,0} \\, x_0 & + & a_{m-1,1} \\, x_1 & + & \\ldots & + & a_{m-1,n-1} \\, x_{n-1} & = & b_{m-1}\\\\\n",
    "\t\\end{array}\n",
    "$$\n",
    "    \n",
    "is called a <b>system of linear equations</b>.\n",
    "The matrix elements $a_{ij}$, $i=0,1,\\ldots,m-1$, $j=0,1,\\ldots,n-1$ are the <b>coefficients</b> and $b_0$, $b_1$, $\\ldots$, $b_{m-1}$ are the right-hand side.\n",
    "</div>\n",
    "\n",
    "The solution of a system of linear equations consists of all numbers $x_0$, $x_1$, $\\ldots$, $x_{n-1}$ for which all $m$ equations are fulfilled.\n",
    "The number of equations and the number of unknowns do not have to be the same.\n",
    "\n",
    "Describing systems of linear equations in so-called matrix-vector notation has several advantages.\n",
    "On the one hand, the mathematical representation is more compact and results in a clearer notation.\n",
    "On the other hand, vectors and matrices are very easy to work with on a computer.\n",
    "\n",
    "<div class=\"alert alert-block alert-success\">\n",
    "<b>Matrix-vector notation</b>\n",
    "    \n",
    "Systems of linear equations can be represented in <b>matrix-vector notation</b>:\n",
    "\n",
    "$$\n",
    "\t\\underbrace{\n",
    "\t\\left(\n",
    "\t\\begin{array}{ccccccccc}\n",
    "\t\ta_{0,0} & a_{0,1} & \\cdots & a_{0,n-1} \\\\\n",
    "\t\ta_{1,0} & a_{1,1} & \\cdots & a_{1,n-1} \\\\\n",
    "\t\t\\vdots & \\vdots & \\ddots & \\vdots\\\\\n",
    " \t\ta_{m-1,0} & a_{m-1,1} & \\cdots & a_{m-1,n-1} \\\\\n",
    "\t\\end{array}\n",
    "\t\\right)}_{\\displaystyle \\mathbf{A}} \n",
    "\t\\underbrace{\n",
    "\t\\left(\n",
    "\t\\begin{array}{c}\n",
    "\t\tx_{0} \\\\\n",
    "\t\tx_{1} \\\\\n",
    "\t\t\\vdots \\\\\n",
    " \t\tx_{n-1} \\\\\n",
    "\t\\end{array}\n",
    "\t\\right)}_{\\displaystyle \\mathbf{x}}\n",
    "\t=\n",
    "\t\\underbrace{\n",
    "\t\\left(\n",
    "\t\\begin{array}{c}\n",
    "\t\tb_{0} \\\\\n",
    "\t\tb_{1} \\\\\n",
    "\t\t\\vdots \\\\\n",
    " \t\tb_{m-1} \\\\\n",
    "\t\\end{array}\n",
    "\t\\right)}_{\\displaystyle \\mathbf{b}}\n",
    "\t\\quad \\Longleftrightarrow \\quad \n",
    "\t\\mathbf{A} \\, \\mathbf{x} = \\mathbf{b} \\, .\n",
    "$$\n",
    "\n",
    "Given the matrix $\\mathbf{A}$ and the right-hand side $\\mathbf{b}$, we search for the solution vector $\\mathbf{x}$.\n",
    "</div>\n",
    "\n",
    "Many practical problems can be described in terms of systems of linear equations, in which the number of unknowns is equal to the number of equations.\n",
    "Such systems have square matrices.\n",
    "\n",
    "<div class=\"alert alert-block alert-warning\">\n",
    "<b>Example</b>\n",
    "\n",
    "System of linear equation:\n",
    "$$\n",
    "\t\\begin{array}{rcrcrcr}\n",
    "\t3 \\, x_0 & + & 6 \\, x_1 &   &          & = & 6\\\\ \n",
    "\t     x_0 & + & 7 \\, x_1 & + & 5 \\, x_2 & = & 17\\\\ \n",
    "\t2 \\, x_0 & + & 4 \\, x_1 & - & 8 \\, x_2 & = & -12\\\\\n",
    "\t\\end{array}\n",
    "$$\n",
    "\n",
    "Matrix-vector notation:\n",
    "\n",
    "$$\n",
    "\t\\left(\n",
    "\t\\begin{array}{rrr}\n",
    "\t3 & 6 &  0 \\\\ \n",
    "\t1 & 7 &  5 \\\\ \n",
    "\t\\hphantom{-}2 & \\hphantom{-}4 & -8 \\\\\n",
    "\t\\end{array}\n",
    "\t\\right)\n",
    "\t\\left(\n",
    "\t\\begin{array}{c}\n",
    "\tx_0\\\\ \n",
    "\tx_1\\\\ \n",
    "\tx_2\\\\\n",
    "\t\\end{array}\n",
    "\t\\right)\n",
    "\t=\n",
    "\t\\left(\n",
    "\t\\begin{array}{r}\n",
    "\t  6\\\\ \n",
    "\t 17\\\\ \n",
    "\t-12\\\\\n",
    "\t\\end{array}\n",
    "\t\\right) \\, .\n",
    "$$\n",
    "    \n",
    "Solution:\n",
    "    \n",
    "$$\n",
    "    \\mathbf{x}\n",
    "    =\n",
    "\t\\left(\n",
    "\t\\begin{array}{r}\n",
    "        0\\\\ \n",
    "        1\\\\ \n",
    "        2\\\\\n",
    "\t\\end{array}\n",
    "\t\\right) \\, .\n",
    "$$\n",
    "</div>"
   ]
  },
  {
   "cell_type": "code",
   "execution_count": null,
   "metadata": {},
   "outputs": [],
   "source": [
    "%reset -f\n",
    "import sympy as sp\n",
    "A = sp.Matrix([[3,6,0],[1,7,5],[2,4,-8]])\n",
    "b = sp.Matrix([[6],[17],[-12]])\n",
    "sp.linsolve((A,b))"
   ]
  },
  {
   "cell_type": "markdown",
   "metadata": {},
   "source": [
    "## 2.2 Gaussian elimination\n",
    "Direct method!"
   ]
  },
  {
   "cell_type": "markdown",
   "metadata": {},
   "source": [
    "## 2.3 Jacobi-iteration\n",
    "Square matrix!\n",
    "\n",
    "<div class=\"alert alert-block alert-success\">\n",
    "<b>Jacobi-iteration</b>\n",
    "\n",
    "Zur Berechnung der Lösung eines linearen Gleichungssystems löste man die $i$--te Gleichung nach der $i$--ten Variable auf.\n",
    "Die neuen Näherungswerte für die Lösung berechnet man iterativ aus den alten Näherungswerten.\n",
    "</div>"
   ]
  },
  {
   "cell_type": "markdown",
   "metadata": {},
   "source": [
    "### Jacobi-Step"
   ]
  },
  {
   "cell_type": "code",
   "execution_count": null,
   "metadata": {},
   "outputs": [],
   "source": [
    "def jacobi_step(A,b,x_old):\n",
    "    x_new = np.array([0.0,0.0,0.0])\n",
    "    x_new[0] = (b[0]-                A[0,1]*x_old[1]-A[0,2]*x_old[2])/A[0,0]\n",
    "    x_new[1] = (b[1]-A[1,0]*x_old[0]-                A[1,2]*x_old[2])/A[1,1]\n",
    "    x_new[2] = (b[2]-A[2,0]*x_old[0]-A[2,1]*x_old[1]                )/A[2,2]\n",
    "    return x_new"
   ]
  },
  {
   "cell_type": "markdown",
   "metadata": {},
   "source": [
    "### Example"
   ]
  },
  {
   "cell_type": "code",
   "execution_count": null,
   "metadata": {},
   "outputs": [],
   "source": [
    "import numpy as np\n",
    "A = np.array([[3,6,0],[1,7,5],[2,4,-8]])\n",
    "b = np.array([6,17,-12])\n",
    "print('A = \\n',A)\n",
    "print('b = \\n',b)"
   ]
  },
  {
   "cell_type": "code",
   "execution_count": null,
   "metadata": {},
   "outputs": [],
   "source": [
    "x0 = np.array([0.0,0.0,0.0])\n",
    "x1 = jacobi_step(A,b,x0)\n",
    "print('x1 = ',x1)\n",
    "x2 = jacobi_step(A,b,x1)\n",
    "print('x2 = ',x2)"
   ]
  },
  {
   "cell_type": "code",
   "execution_count": null,
   "metadata": {},
   "outputs": [],
   "source": [
    "k_max = 1000\n",
    "tol = 1.0e-8"
   ]
  },
  {
   "cell_type": "markdown",
   "metadata": {},
   "source": [
    "### Jacobi"
   ]
  },
  {
   "cell_type": "code",
   "execution_count": null,
   "metadata": {},
   "outputs": [],
   "source": [
    "def jacobi(A,b,x0):\n",
    "    x_old = x0\n",
    "    k = 0\n",
    "    while k < k_max:\n",
    "        k += 1\n",
    "        x_new = jacobi_step(A,b,x_old)\n",
    "        if np.max(np.abs(x_new-x_old)) < tol:\n",
    "            break\n",
    "        x_old = x_new\n",
    "    return x_new, k"
   ]
  },
  {
   "cell_type": "code",
   "execution_count": null,
   "metadata": {},
   "outputs": [],
   "source": [
    "x, k = jacobi(A,b,x0)\n",
    "print('k = ',k)\n",
    "print('x = ',x)"
   ]
  },
  {
   "cell_type": "markdown",
   "metadata": {},
   "source": [
    "### Spectral radius"
   ]
  },
  {
   "cell_type": "code",
   "execution_count": null,
   "metadata": {},
   "outputs": [],
   "source": [
    "print('A = \\n',A)\n",
    "L = np.tril(A,k=-1)\n",
    "print('L = \\n',L)\n",
    "U = np.triu(A,k=1)\n",
    "print('U = \\n',U)\n",
    "D = np.diag(np.diag(A))\n",
    "print('D = \\n',D)\n",
    "G = -np.linalg.inv(D)@(L+U)\n",
    "print(np.max(np.abs((np.linalg.eigvals(G)))))\n",
    "G = -np.linalg.inv(L+D)@U\n",
    "print(np.max(np.abs((np.linalg.eigvals(G)))))"
   ]
  },
  {
   "cell_type": "markdown",
   "metadata": {},
   "source": [
    "## Gauss-Seidel-Iteration"
   ]
  },
  {
   "cell_type": "markdown",
   "metadata": {},
   "source": [
    "### Gauss-Seidel Step"
   ]
  },
  {
   "cell_type": "code",
   "execution_count": null,
   "metadata": {},
   "outputs": [],
   "source": [
    "def jacobi_step(A,b,x_old):\n",
    "    x_new = np.array([0.0,0.0,0.0])\n",
    "    x_new[0] = (b[0]-                A[0,1]*x_old[1]-A[0,2]*x_old[2])/A[0,0]\n",
    "    x_new[1] = (b[1]-A[1,0]*x_old[0]-                A[1,2]*x_old[2])/A[1,1]\n",
    "    x_new[2] = (b[2]-A[2,0]*x_old[0]-A[2,1]*x_old[1]                )/A[2,2]\n",
    "    return x_new"
   ]
  },
  {
   "cell_type": "code",
   "execution_count": null,
   "metadata": {},
   "outputs": [],
   "source": [
    "def gauss_seidel_step(A,b,x):\n",
    "    x[0] = (b[0]-            A[0,1]*x[1]-A[0,2]*x[2])/A[0,0]\n",
    "    x[1] = (b[1]-A[1,0]*x[0]-            A[1,2]*x[2])/A[1,1]\n",
    "    x[2] = (b[2]-A[2,0]*x[0]-A[2,1]*x[1]            )/A[2,2]\n",
    "    return x"
   ]
  },
  {
   "cell_type": "code",
   "execution_count": null,
   "metadata": {},
   "outputs": [],
   "source": [
    "x0 = np.array([0.0,0.0,0.0])\n",
    "x1 = gauss_seidel_step(A,b,x0)\n",
    "print('x1 = ',x1)\n",
    "x2 = gauss_seidel_step(A,b,x1)\n",
    "print('x2 = ',x2)"
   ]
  },
  {
   "cell_type": "markdown",
   "metadata": {},
   "source": [
    "### Gauss-Seidel"
   ]
  },
  {
   "cell_type": "code",
   "execution_count": null,
   "metadata": {},
   "outputs": [],
   "source": [
    "def gauss_seidel(A,b,x0):\n",
    "    x_old = x0\n",
    "    k = 0\n",
    "    while k < k_max:\n",
    "        k += 1\n",
    "        x_new = jacobi_step(A,b,x_old)\n",
    "        if np.max(np.abs(x_new-x_old)) < tol:\n",
    "            break\n",
    "        x_old = x_new\n",
    "    return x_new, k"
   ]
  },
  {
   "cell_type": "code",
   "execution_count": null,
   "metadata": {},
   "outputs": [],
   "source": [
    "x, k = gauss_seidel(A,b,x0)\n",
    "print('k = ',k)\n",
    "print('x = ',x)"
   ]
  },
  {
   "cell_type": "code",
   "execution_count": null,
   "metadata": {},
   "outputs": [],
   "source": []
  }
 ],
 "metadata": {
  "kernelspec": {
   "display_name": "Python 3 (ipykernel)",
   "language": "python",
   "name": "python3"
  },
  "language_info": {
   "codemirror_mode": {
    "name": "ipython",
    "version": 3
   },
   "file_extension": ".py",
   "mimetype": "text/x-python",
   "name": "python",
   "nbconvert_exporter": "python",
   "pygments_lexer": "ipython3",
   "version": "3.9.7"
  }
 },
 "nbformat": 4,
 "nbformat_minor": 4
}
