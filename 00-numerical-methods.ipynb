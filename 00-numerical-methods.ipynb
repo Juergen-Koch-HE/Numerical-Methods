{
 "cells": [
  {
   "cell_type": "markdown",
   "metadata": {},
   "source": [
    "<img src=\"00-numerical-methods.png\" style=\"height:250px\" align=\"left\"> "
   ]
  },
  {
   "cell_type": "markdown",
   "metadata": {},
   "source": [
    "## Table of Contents\n",
    "### [1 Roundoff Error](01-roundoff-error.ipynb)\n",
    "### [2 Systems of Linear Equations](02-systems-of-linear-equations.ipynb)\n",
    "### [3 Eigenvalues and Eigenvectors](03-eigenvalues-and-eigenvectors.ipynb)\n",
    "### [4 Root Finding](04-root-finding.ipynb)\n",
    "### [5 Optimization](05-optimization.ipynb)\n",
    "### [6 Interpolation and Approximation](06-interpolation-and-approximation.ipynb)\n",
    "### [7 Numerical Integration](07-numerical-integration.ipynb)\n",
    "### [8 Ordinary Differential Equations](08-ordinary-differential-equations.ipynb)\n",
    "### [9 Partial Differential Equations](09-partial-differential-equations.ipynb)"
   ]
  },
  {
   "cell_type": "markdown",
   "metadata": {},
   "source": [
    "## Preface\n",
    "We can trace mathematical practice back in time thousands of years.\n",
    "Archaeological finds document the early use of symbols for counting and geometric constructions.\n",
    "Over the centuries, this has developed into two complex mathematical frameworks, which we now call algebra and geometry.\n",
    "From the beginning of the 18th century, with the idea of differential calculus, analysis became the third major area of mathematics.\n",
    "\n",
    "Thanks to Philipp Dobler\n",
    "\n",
    "### CAD\n",
    "\n",
    "### Computer Algebra\n",
    "One approach is to use computer algebra systems.\n",
    "In simple terms, a computer algebra system is a computer program that performs algebraic and analytic calculations, manipulations and simplifications.\n",
    "Compared to mathematical manipulations by hand, computer algebra systems can solve more complex problems and are more reliable.\n",
    "Although the performance of computer algebra systems has improved significantly in recent years, these systems are stil rarely used.\n",
    "\n",
    "\n",
    "practical problems, particularly in the field of astronomy, were successfully solved by means of analytical calculations.\n",
    "\n",
    "\n",
    "basierend auf Näherungswerten, \n",
    "\n",
    "\n",
    "Complex mathematical problems in science and technology often cannot be solved satisfactorily with these two strategies by hand.\n",
    "Recently computers open up new possibilities for solving mathematical problems due to their enormous computing power.\n",
    "\n",
    "\n",
    "### Numerical Methods\n",
    "Mathematical problems in science and technology are often solved with the help of numerical methods.\n",
    "Numerical methods attempt to find approximate solutions of problems rather than the exact ones."
   ]
  },
  {
   "cell_type": "markdown",
   "metadata": {},
   "source": [
    "\\begin{center}\n",
    "  \\fbox{{\\Large Problem}}\n",
    "  \\end{center}\n",
    "  \\begin{center}\n",
    "  $\\Downarrow$\n",
    "  \\end{center}\n",
    "  \\begin{center}\n",
    "  \\fbox{{\\Large Mathematisches Modell}}\n",
    "  \\end{center}\n",
    "  \\begin{center}\n",
    "  $\\Downarrow$\n",
    "  \\end{center}\n",
    "  \\begin{center}\n",
    "  \\fbox{{\\Large Lösungsverfahren}}\n",
    "  \\end{center}"
   ]
  },
  {
   "cell_type": "markdown",
   "metadata": {},
   "source": [
    "### Algorithmus\n",
    "  $$\n",
    "  \\fbox{input}\n",
    "  \\rightarrow\n",
    "  \\fbox{1. Schritt}\n",
    "  \\rightarrow\n",
    "  \\ldots\n",
    "  \\rightarrow\n",
    "  \\fbox{n. Schritt}\n",
    "  \\rightarrow\n",
    "  \\fbox{output}\n",
    "  $$\n",
    "\n",
    "#### Direkte Algorithmen\n",
    "Das Ergebnis wird in einem Schritt berechnet. (Mitternachtsformel, Gauss--Algorithmus, Trapez--Regel, ...)\n",
    "\n",
    "#### Iterative Algorithmen\n",
    "Durch wiederholte Anwendung des Algorithmus wird eine Näherungslösung sukzessive verbessert."
   ]
  },
  {
   "cell_type": "markdown",
   "metadata": {},
   "source": [
    "## Literature\n",
    "https://pythonnumericalmethods.berkeley.edu/notebooks/Index.html\n"
   ]
  }
 ],
 "metadata": {
  "kernelspec": {
   "display_name": "Python 3 (ipykernel)",
   "language": "python",
   "name": "python3"
  },
  "language_info": {
   "codemirror_mode": {
    "name": "ipython",
    "version": 3
   },
   "file_extension": ".py",
   "mimetype": "text/x-python",
   "name": "python",
   "nbconvert_exporter": "python",
   "pygments_lexer": "ipython3",
   "version": "3.9.7"
  },
  "toc": {
   "base_numbering": 1,
   "nav_menu": {},
   "number_sections": true,
   "sideBar": true,
   "skip_h1_title": false,
   "title_cell": "Table of Contents",
   "title_sidebar": "Contents",
   "toc_cell": false,
   "toc_position": {},
   "toc_section_display": true,
   "toc_window_display": false
  }
 },
 "nbformat": 4,
 "nbformat_minor": 4
}
