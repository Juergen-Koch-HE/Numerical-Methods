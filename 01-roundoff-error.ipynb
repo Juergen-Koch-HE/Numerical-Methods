{
 "cells": [
  {
   "cell_type": "markdown",
   "metadata": {},
   "source": [
    "<!--NAVIGATION-->\n",
    "| [Table of Contents](00-numerical-methods.ipynb) | [2 Systems of Linear Equations](02-systems-of-linear-equations.ipynb) >"
   ]
  },
  {
   "cell_type": "markdown",
   "metadata": {},
   "source": [
    "# 1 Roundoff Error"
   ]
  },
  {
   "cell_type": "markdown",
   "metadata": {},
   "source": [
    "## Numerical comparison"
   ]
  },
  {
   "cell_type": "markdown",
   "metadata": {},
   "source": [
    "$$\n",
    "\\frac{x^2-y^2}{x-y} = \\frac{(x-y)(x+y)}{x-y} = x+y\n",
    "$$"
   ]
  },
  {
   "cell_type": "code",
   "execution_count": null,
   "metadata": {},
   "outputs": [],
   "source": [
    "x = 1.0/3.0\n",
    "y = 1.0/7.0\n",
    "z1 = (x**2-y**2)/(x-y)\n",
    "z2 = x+y\n",
    "print(z1)\n",
    "print(z2)\n",
    "if z1 == z2:\n",
    "    print('z1 equal z2')\n",
    "else:\n",
    "    print('z1 not equal z2')\n",
    "print('z1-z2 = ',z1-z2)"
   ]
  },
  {
   "cell_type": "markdown",
   "metadata": {},
   "source": [
    "<div class=\"alert alert-block alert-danger\">\n",
    "<b>Important</b>\n",
    "    \n",
    "Never use `==` for comparison of numerical values!   \n",
    "</div>"
   ]
  },
  {
   "cell_type": "markdown",
   "metadata": {},
   "source": [
    "## Machine precision"
   ]
  },
  {
   "cell_type": "code",
   "execution_count": null,
   "metadata": {},
   "outputs": [],
   "source": [
    "epsilon = 1.0;\n",
    "while 1.0 + epsilon > 1.0:\n",
    "    epsilon = epsilon/2.0\n",
    "print('epsilon = ',epsilon)"
   ]
  },
  {
   "cell_type": "markdown",
   "metadata": {},
   "source": [
    "## Order of calculations"
   ]
  },
  {
   "cell_type": "code",
   "execution_count": null,
   "metadata": {},
   "outputs": [],
   "source": [
    "a = 10.0**20;\n",
    "b = 17.0;\n",
    "c = -10.0;\n",
    "d = 130.0;\n",
    "s1 = a + b + c + d - a\n",
    "s2 = a + b - a + c + d\n",
    "s3 = a - a + b + c + d\n",
    "s4 = a + b + d - a + c\n",
    "print('s1 = ',s1)\n",
    "print('s2 = ',s2)\n",
    "print('s3 = ',s3)\n",
    "print('s4 = ',s4)"
   ]
  },
  {
   "cell_type": "markdown",
   "metadata": {},
   "source": [
    "## Subtractive cancelation"
   ]
  },
  {
   "cell_type": "markdown",
   "metadata": {},
   "source": [
    "$$\n",
    "\\underbrace{\n",
    "\\left(\n",
    "\\begin{array}{cc}\n",
    "a_{00} & a_{01}\\\\\n",
    "a_{10} & a_{11}\\\\\n",
    "\\end{array}\n",
    "\\right)\n",
    "}_{\\displaystyle A}\n",
    "\\left(\n",
    "\\begin{array}{c}\n",
    "x_0 \\\\\n",
    "x_1\n",
    "\\end{array}\n",
    "\\right)\n",
    "=\n",
    "\\left(\n",
    "\\begin{array}{c}\n",
    "b_0 \\\\\n",
    "b_1\n",
    "\\end{array}\n",
    "\\right)\n",
    "\\quad\n",
    "\\Longrightarrow\n",
    "\\quad\n",
    "\\left(\n",
    "\\begin{array}{c}\n",
    "x_0 \\\\\n",
    "x_1\n",
    "\\end{array}\n",
    "\\right)\n",
    "=\n",
    "\\underbrace{\n",
    "\\frac{1}{a_{00}a_{11}-a_{01}a_{10}}\n",
    "\\left(\n",
    "\\begin{array}{rr}\n",
    "a_{11} & -a_{01}\\\\\n",
    "-a_{10} & a_{00}\\\\\n",
    "\\end{array}\n",
    "\\right)\n",
    "}_{\\displaystyle A^{-1}}\n",
    "\\left(\n",
    "\\begin{array}{c}\n",
    "b_0 \\\\\n",
    "b_1\n",
    "\\end{array}\n",
    "\\right)\n",
    "$$"
   ]
  },
  {
   "cell_type": "code",
   "execution_count": null,
   "metadata": {},
   "outputs": [],
   "source": [
    "def solve(A,b):\n",
    "    det = (A[0,0]*A[1,1] - A[0,1]*A[1,0])\n",
    "    print('det = ',det)\n",
    "    x0 = (A[1,1]*b[0]-A[0,1]*b[1])/det\n",
    "    x1 = (A[0,0]*b[1]-A[1,0]*b[0])/det\n",
    "    return [x0, x1]\n",
    "\n",
    "def check(A,x):\n",
    "    b0 = A[0,0]*x[0]+A[0,1]*x[1]\n",
    "    b1 = A[1,0]*x[0]+A[1,1]*x[1]\n",
    "    return [b0, b1]"
   ]
  },
  {
   "cell_type": "code",
   "execution_count": null,
   "metadata": {},
   "outputs": [],
   "source": [
    "import numpy as np\n",
    "A = np.array([[64919121.0,-159018721.0],[41869520.5,-102558961.0]])\n",
    "b = np.array([1.0,0.0])\n",
    "x = solve(A,b)\n",
    "print('x = ',x)\n",
    "b = check(A,x)\n",
    "print('b = ',b)"
   ]
  },
  {
   "cell_type": "code",
   "execution_count": null,
   "metadata": {},
   "outputs": [],
   "source": [
    "import sympy as sp\n",
    "A = sp.Matrix([[64919121,-159018721],[41869520+sp.S(1)/2,-102558961]])\n",
    "b = sp.Matrix([1,0])\n",
    "x = solve(A,b)\n",
    "print('x = ',x)\n",
    "b = check(A,x)\n",
    "print('b = ',b)"
   ]
  }
 ],
 "metadata": {
  "kernelspec": {
   "display_name": "Python 3 (ipykernel)",
   "language": "python",
   "name": "python3"
  },
  "language_info": {
   "codemirror_mode": {
    "name": "ipython",
    "version": 3
   },
   "file_extension": ".py",
   "mimetype": "text/x-python",
   "name": "python",
   "nbconvert_exporter": "python",
   "pygments_lexer": "ipython3",
   "version": "3.9.7"
  },
  "toc": {
   "base_numbering": 1,
   "nav_menu": {},
   "number_sections": true,
   "sideBar": true,
   "skip_h1_title": false,
   "title_cell": "Table of Contents",
   "title_sidebar": "Contents",
   "toc_cell": false,
   "toc_position": {},
   "toc_section_display": true,
   "toc_window_display": false
  }
 },
 "nbformat": 4,
 "nbformat_minor": 4
}
