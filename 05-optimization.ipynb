{
 "cells": [
  {
   "cell_type": "markdown",
   "metadata": {},
   "source": [
    "<!--NAVIGATION-->\n",
    "< [4 Root Finding](04-root-finding.ipynb) | [6 Interpolation and Approximation](06-interpolation-and-approximation.ipynb) >"
   ]
  },
  {
   "cell_type": "markdown",
   "metadata": {},
   "source": [
    "# 5 Optimization"
   ]
  },
  {
   "cell_type": "markdown",
   "metadata": {},
   "source": [
    "## Gradient descent"
   ]
  },
  {
   "cell_type": "code",
   "execution_count": null,
   "metadata": {},
   "outputs": [],
   "source": [
    "import numpy as np\n",
    "\n",
    "def gradientDescent(x0,t0,tol=1e-4,k_max=100):\n",
    "    x, t = [x0], [t0]\n",
    "    for k in np.arange(k_max):\n",
    "        dx = t[-1]*fp(x[-1]);\n",
    "        if np.max(np.abs(dx)) < tol:\n",
    "            break\n",
    "        x_new = x[-1]-dx\n",
    "        if f(x_new) < f(x[-1]):\n",
    "            x.append(x_new)\n",
    "            t.append(t[-1])\n",
    "        else:\n",
    "            t[-1] = 0.5*t[-1]\n",
    "    return x, t"
   ]
  },
  {
   "cell_type": "markdown",
   "metadata": {},
   "source": [
    "## Examples"
   ]
  },
  {
   "cell_type": "markdown",
   "metadata": {},
   "source": [
    "### Example 1\n",
    "\n",
    "$$\n",
    "\tf(x) = \\left| x^2 - 1 \\right|\n",
    "    \\quad \\Longrightarrow \\quad \n",
    "    f'(x) =\n",
    "    \\left\\{ \n",
    "    \\begin{array}{rl}\n",
    "        -2 \\, x & \\mbox{for } x \\in [-1,1], \\\\\n",
    "         2 \\, x & \\mbox{else}. \\\\     \n",
    "    \\end{array}\n",
    "    \\right. \n",
    "$$"
   ]
  },
  {
   "cell_type": "code",
   "execution_count": null,
   "metadata": {},
   "outputs": [],
   "source": [
    "def f(x):\n",
    "    return np.abs(x**2-1)\n",
    "\n",
    "def fp(x):\n",
    "    if x >= -1.0 and x <= 1.0:\n",
    "        fp = -2.0*x\n",
    "    else:\n",
    "        fp =  2.0*x\n",
    "    return fp\n",
    "\n",
    "x0 = 1.5\n",
    "t0 = 0.25\n",
    "\n",
    "x, t = gradientDescent(x0,t0)\n",
    "print('x = ',x,'\\nt = ',t)"
   ]
  },
  {
   "cell_type": "markdown",
   "metadata": {},
   "source": [
    "### Example 2\n",
    "\n",
    "$$\n",
    "\tf(x,y) = -4 \\, x \\, \\mbox{e}^{-x^2-y^2}\n",
    "    \\quad \\Longrightarrow \\quad \n",
    "    \\nabla \\, f(x,y) = \\left( 8 \\, x^2 - 4, \\quad 8 \\, x \\, y \\right) \\, \\mbox{e}^{-x^2-y^2} \\, .\n",
    "$$"
   ]
  },
  {
   "cell_type": "code",
   "execution_count": null,
   "metadata": {},
   "outputs": [],
   "source": [
    "def f(x):\n",
    "    f = -4.0*x[0]*np.exp(-x[0]**2-x[1]**2)\n",
    "    return f\n",
    "\n",
    "def fp(x):\n",
    "    fx = (8.0*x[0]**2-4.0)*np.exp(-x[0]**2-x[1]**2)\n",
    "    fy = 8.0*x[0]*x[1]*np.exp(-x[0]**2-x[1]**2)\n",
    "    return np.array([fx,fy])\n",
    "\n",
    "x0 = np.array([1.0,1.0])\n",
    "t0 = 1.0\n",
    "\n",
    "x, t = gradientDescent(x0,t0)\n",
    "print('x = ',x,'\\nt = ',t)"
   ]
  },
  {
   "cell_type": "markdown",
   "metadata": {},
   "source": [
    "### Example 3\n",
    "\n",
    "$$\n",
    "    f(x,y) = \\frac{8}{5} + \\frac{2}{5} \\, y - \\frac{1}{5} \\, x - \\frac{3}{2} \\mbox{e}^{-x^2-2y^2}\n",
    "    \\quad \\Longrightarrow \\quad \n",
    "    \\nabla \\, f(x,y) = \\left( - \\frac{1}{5} + 3 \\, x \\, \\mbox{e}^{-x^2-y^2} , \\quad \\frac{2}{5} + 6 \\, y \\, \\mbox{e}^{-x^2-y^2}\\right) \\, .\n",
    "$$"
   ]
  },
  {
   "cell_type": "code",
   "execution_count": null,
   "metadata": {},
   "outputs": [],
   "source": [
    "def f(x):\n",
    "    f = 8.0/5.0+2.0/5.0*x[1]-1.0/5.0*x[0]-3.0/2.0*np.exp(-x[0]**2-2.0*x[1]**2)\n",
    "    return f\n",
    "\n",
    "def fp(x):\n",
    "    fx = -1.0/5.0+3.0*x[0]*np.exp(-x[0]**2-2.0*x[1]**2)\n",
    "    fy =  2.0/5.0+6.0*x[1]*np.exp(-x[0]**2-2.0*x[1]**2)\n",
    "    return np.array([fx,fy])\n",
    "\n",
    "x0 = np.array([1.0,1.0])\n",
    "t0 = 1.0\n",
    "\n",
    "x, t = gradientDescent(x0,t0)\n",
    "print('x = ',x,'\\nt = ',t)"
   ]
  },
  {
   "cell_type": "markdown",
   "metadata": {},
   "source": [
    "### Example 4\n",
    "\n",
    "$$\n",
    "    f(x,y) = (x+y) \\, \\mbox{e}^{-x^2-y^2}\n",
    "    \\quad \\Longrightarrow \\quad \n",
    "    \\nabla \\, f(x,y) = \\mbox{e}^{-x^2-y^2} \\, \\left( 1 - 2x(x+y), \\, 1 -2y(x+y) \\right) \\, .\n",
    "$$"
   ]
  },
  {
   "cell_type": "code",
   "execution_count": null,
   "metadata": {},
   "outputs": [],
   "source": [
    "def f(x):\n",
    "    f = (x[0]+x[1])*np.exp(-x[0]**2-x[1]**2)\n",
    "    return f\n",
    "\n",
    "def fp(x):\n",
    "    fx = (1-2*x[0]*(x[0]+x[1]))*np.exp(-x[0]**2-x[1]**2)\n",
    "    fy = (1-2*x[1]*(x[0]+x[1]))*np.exp(-x[0]**2-x[1]**2)\n",
    "    return np.array([fx,fy])\n",
    "\n",
    "x0 = np.array([0.0,0.0])\n",
    "t0 = 1.0\n",
    "\n",
    "x, t = gradientDescent(x0,t0)\n",
    "print('x = ',x,'\\nt = ',t)"
   ]
  },
  {
   "cell_type": "code",
   "execution_count": null,
   "metadata": {},
   "outputs": [],
   "source": []
  }
 ],
 "metadata": {
  "kernelspec": {
   "display_name": "Python 3 (ipykernel)",
   "language": "python",
   "name": "python3"
  },
  "language_info": {
   "codemirror_mode": {
    "name": "ipython",
    "version": 3
   },
   "file_extension": ".py",
   "mimetype": "text/x-python",
   "name": "python",
   "nbconvert_exporter": "python",
   "pygments_lexer": "ipython3",
   "version": "3.9.7"
  },
  "toc": {
   "base_numbering": "6",
   "nav_menu": {},
   "number_sections": true,
   "sideBar": true,
   "skip_h1_title": false,
   "title_cell": "Table of Contents",
   "title_sidebar": "Contents",
   "toc_cell": false,
   "toc_position": {},
   "toc_section_display": true,
   "toc_window_display": true
  }
 },
 "nbformat": 4,
 "nbformat_minor": 4
}
