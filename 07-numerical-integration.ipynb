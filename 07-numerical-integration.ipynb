{
 "cells": [
  {
   "cell_type": "markdown",
   "metadata": {},
   "source": [
    "<!--NAVIGATION-->\n",
    "< [6 Interpolation and Approximation](06-interpolation-and-approximation.ipynb) | [\n",
    "8 Ordinary Differential Equations](08-ordinary-differential-equations.ipynb) >"
   ]
  },
  {
   "cell_type": "markdown",
   "metadata": {},
   "source": [
    "# 7 Numerical integration"
   ]
  },
  {
   "cell_type": "code",
   "execution_count": null,
   "metadata": {},
   "outputs": [],
   "source": [
    "#\n",
    "# Example\n",
    "# \n",
    "import numpy as np\n",
    "a = 2\n",
    "b = 6\n",
    "def f(x):\n",
    "    return np.log(x)"
   ]
  },
  {
   "cell_type": "code",
   "execution_count": null,
   "metadata": {},
   "outputs": [],
   "source": [
    "#\n",
    "# exact result\n",
    "#\n",
    "def F(x):\n",
    "    return x*np.log(x)-x\n",
    "I = F(b)-F(a)\n",
    "print(I)"
   ]
  },
  {
   "cell_type": "markdown",
   "metadata": {},
   "source": [
    "## Trapezoidal rule"
   ]
  },
  {
   "cell_type": "code",
   "execution_count": null,
   "metadata": {},
   "outputs": [],
   "source": [
    "def trapezoidal_rule(a,b,n):\n",
    "    h = (b-a)/n\n",
    "    x = np.linspace(a+h,b-h,n-1)\n",
    "    T = h*(0.5*f(a)+np.sum(f(x))+0.5*f(b))\n",
    "    return T"
   ]
  },
  {
   "cell_type": "code",
   "execution_count": null,
   "metadata": {},
   "outputs": [],
   "source": [
    "m = 5\n",
    "T = np.zeros(m+1)\n",
    "for k in np.arange(0,m+1):\n",
    "    T[k] = trapezoidal_rule(a,b,2**k)\n",
    "    print('T[',k,'] = ',T[k])\n",
    "    print('|T[',k,']-I| = ',np.abs(T[k]-I))"
   ]
  },
  {
   "cell_type": "markdown",
   "metadata": {},
   "source": [
    "## Romberg"
   ]
  },
  {
   "cell_type": "code",
   "execution_count": null,
   "metadata": {},
   "outputs": [],
   "source": [
    "def romberg(a,b,tol):\n",
    "    m = 10\n",
    "    T = np.zeros((m+1,m+1))\n",
    "    for k in np.arange(0,m+1):\n",
    "        T[k,0] = trapezoidal_rule(a,b,2**k)\n",
    "        for l in np.arange(1,k+1):\n",
    "            T[k,l] = (4**l*T[k,l-1]-T[k-1,l-1])/(4**l-1)\n",
    "        if np.abs(T[k-1,k-1]-T[k,k]) < tol:\n",
    "            T = T[0:k,0:k]\n",
    "            break\n",
    "    return T[k-1,k-1], T"
   ]
  },
  {
   "cell_type": "code",
   "execution_count": null,
   "metadata": {},
   "outputs": [],
   "source": [
    "tol = 1.0e-8\n",
    "R, T = romberg(a,b,tol)\n",
    "print(T)\n",
    "print('R = ',R)\n",
    "print('|R-I| = ',np.abs(R-I))"
   ]
  },
  {
   "cell_type": "code",
   "execution_count": null,
   "metadata": {},
   "outputs": [],
   "source": []
  }
 ],
 "metadata": {
  "kernelspec": {
   "display_name": "Python 3 (ipykernel)",
   "language": "python",
   "name": "python3"
  },
  "language_info": {
   "codemirror_mode": {
    "name": "ipython",
    "version": 3
   },
   "file_extension": ".py",
   "mimetype": "text/x-python",
   "name": "python",
   "nbconvert_exporter": "python",
   "pygments_lexer": "ipython3",
   "version": "3.9.7"
  }
 },
 "nbformat": 4,
 "nbformat_minor": 4
}
